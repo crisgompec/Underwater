{
 "cells": [
  {
   "cell_type": "code",
   "execution_count": 13,
   "metadata": {},
   "outputs": [],
   "source": [
    "import numpy as np"
   ]
  },
  {
   "cell_type": "code",
   "execution_count": 1,
   "metadata": {},
   "outputs": [],
   "source": [
    "list = ['(1,1)', '(1,2)']\n"
   ]
  },
  {
   "cell_type": "code",
   "execution_count": 3,
   "metadata": {},
   "outputs": [],
   "source": [
    "list.append('hola')"
   ]
  },
  {
   "cell_type": "code",
   "execution_count": 4,
   "metadata": {},
   "outputs": [
    {
     "data": {
      "text/plain": [
       "['(1,1)', '(1,2)', 'hola']"
      ]
     },
     "execution_count": 4,
     "metadata": {},
     "output_type": "execute_result"
    }
   ],
   "source": [
    "list"
   ]
  },
  {
   "cell_type": "code",
   "execution_count": 5,
   "metadata": {},
   "outputs": [],
   "source": [
    "class Pixel(object):\n",
    "    def __init__(self):\n",
    "        self.position = None\n",
    "        self.neighbors = None"
   ]
  },
  {
   "cell_type": "code",
   "execution_count": 19,
   "metadata": {},
   "outputs": [
    {
     "name": "stdout",
     "output_type": "stream",
     "text": [
      "(1, 1)\n",
      "(1,2)\n",
      "<class 'str'>\n",
      "['(1,2)', '(1,4)']\n",
      "['(1,2)']\n"
     ]
    }
   ],
   "source": [
    "Pixel_prueba = Pixel()\n",
    "Pixel_prueba.position = (1,1)\n",
    "Pixel_prueba.neighbors = ['(1,2)']\n",
    "\n",
    "print(Pixel_prueba.position)\n",
    "print(Pixel_prueba.neighbors[0])\n",
    "print(type(Pixel_prueba.neighbors[0]))\n",
    "#print(Pixel_prueba.position + np.array(Pixel_prueba.neighbors[0]))\n",
    "\n",
    "Pixel_prueba.neighbors.append('(1,4)')\n",
    "print(Pixel_prueba.neighbors)\n",
    "\n",
    "Pixel_prueba.neighbors.remove('(1,4)')\n",
    "print(Pixel_prueba.neighbors)\n"
   ]
  },
  {
   "cell_type": "code",
   "execution_count": 43,
   "metadata": {},
   "outputs": [
    {
     "name": "stdout",
     "output_type": "stream",
     "text": [
      "Position:\n",
      "(1, 1)\n",
      "Neighbors 1:\n",
      "[(1, 2)]\n",
      "Neighbors 2:\n",
      "[(1, 2), (2, 1)]\n",
      "Neighbors 3:\n",
      "[(2, 1)]\n"
     ]
    }
   ],
   "source": [
    "list_pixel_primer_orden = []\n",
    "\n",
    "new_pixel = 1\n",
    "list_pixel_primer_orden.append(new_pixel)\n",
    "list_pixel_primer_orden[0] = Pixel()\n",
    "list_pixel_primer_orden[0].position = (1,1)\n",
    "\n",
    "print('Position:')\n",
    "print(list_pixel_primer_orden[0].position)\n",
    "\n",
    "list_pixel_primer_orden[0].neighbors = []\n",
    "\n",
    "pixel_neighbor = (1,2)\n",
    "list_pixel_primer_orden[0].neighbors.append(pixel_neighbor)\n",
    "\n",
    "print('Neighbors 1:')\n",
    "print(list_pixel_primer_orden[0].neighbors)\n",
    "\n",
    "pixel_neighbor_2 = (2,1)\n",
    "list_pixel_primer_orden[0].neighbors.append(pixel_neighbor_2)\n",
    "\n",
    "print('Neighbors 2:')\n",
    "print(list_pixel_primer_orden[0].neighbors)\n",
    "\n",
    "list_pixel_primer_orden[0].neighbors.remove(pixel_neighbor)\n",
    "\n",
    "print('Neighbors 3:')\n",
    "print(list_pixel_primer_orden[0].neighbors)\n"
   ]
  },
  {
   "cell_type": "code",
   "execution_count": 49,
   "metadata": {},
   "outputs": [
    {
     "name": "stdout",
     "output_type": "stream",
     "text": [
      "Coordinates 0,(2, 1)\n",
      "2\n"
     ]
    }
   ],
   "source": [
    "for index,coordinates in enumerate(list_pixel_primer_orden[0].neighbors):\n",
    "    print(\"Coordinates {},{}\".format(index,coordinates))\n",
    "    print(coordinates[0])"
   ]
  },
  {
   "cell_type": "code",
   "execution_count": null,
   "metadata": {},
   "outputs": [],
   "source": []
  }
 ],
 "metadata": {
  "kernelspec": {
   "display_name": "Python 3",
   "language": "python",
   "name": "python3"
  },
  "language_info": {
   "codemirror_mode": {
    "name": "ipython",
    "version": 3
   },
   "file_extension": ".py",
   "mimetype": "text/x-python",
   "name": "python",
   "nbconvert_exporter": "python",
   "pygments_lexer": "ipython3",
   "version": "3.7.3"
  }
 },
 "nbformat": 4,
 "nbformat_minor": 2
}
