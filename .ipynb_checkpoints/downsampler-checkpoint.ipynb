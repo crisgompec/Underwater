{
 "cells": [
  {
   "cell_type": "code",
   "execution_count": 3,
   "metadata": {},
   "outputs": [],
   "source": [
    "import numpy as np\n",
    "import dippykit as dip\n",
    "\n",
    "\n",
    "#PICKING AN IMAGE\n",
    "\n",
    "X = dip.im_read(\"images/underwater-15.png\")\n",
    "X = dip.im_to_float(X)\n",
    "\n",
    "#UPSAMPLE IMAGE\n",
    "Mdown = np.array([[3, 0], [0, 3]])\n",
    "X_down = dip.resample(X, Mdown, interp='bicubic') #, crop = True, crop_size = (384, 216, 3)\n",
    "\n",
    "X_down = dip.float_to_im(X_down)\n",
    "dip.im_write(X_down,\"images/underwater-15_downsampled.png\")\n"
   ]
  },
  {
   "cell_type": "code",
   "execution_count": null,
   "metadata": {},
   "outputs": [],
   "source": []
  }
 ],
 "metadata": {
  "kernelspec": {
   "display_name": "Python 3",
   "language": "python",
   "name": "python3"
  },
  "language_info": {
   "codemirror_mode": {
    "name": "ipython",
    "version": 3
   },
   "file_extension": ".py",
   "mimetype": "text/x-python",
   "name": "python",
   "nbconvert_exporter": "python",
   "pygments_lexer": "ipython3",
   "version": "3.7.3"
  }
 },
 "nbformat": 4,
 "nbformat_minor": 2
}
